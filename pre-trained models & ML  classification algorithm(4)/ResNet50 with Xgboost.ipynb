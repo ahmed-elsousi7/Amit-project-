{
 "cells": [
  {
   "cell_type": "code",
   "execution_count": 1,
   "id": "c6a55797",
   "metadata": {},
   "outputs": [],
   "source": [
    "import numpy as np \n",
    "import matplotlib.pyplot as plt \n",
    "import seaborn as sns\n",
    "import tensorflow as tf\n",
    "import os\n",
    "import glob \n",
    "from glob import iglob\n",
    "from collections import Counter\n",
    "import cv2 as cv\n",
    "import splitfolders\n",
    "from keras.models import Model , Sequential\n",
    "from keras.layers import Dense , Flatten , Conv2D , MaxPooling2D\n",
    "from keras.layers.normalization import batch_normalization\n",
    "from keras.applications.resnet import ResNet50\n",
    "from sklearn.preprocessing import LabelEncoder\n",
    "from sklearn.ensemble import RandomForestClassifier\n",
    "import xgboost as XGB\n",
    "from sklearn.metrics import classification_report , confusion_matrix , ConfusionMatrixDisplay , accuracy_score\n",
    "from keras.preprocessing.image import ImageDataGenerator\n",
    "from keras.utils import to_categorical\n",
    "from keras.applications.resnet import preprocess_input\n",
    "SIZE = 224\n",
    "CHANNELS = 3"
   ]
  },
  {
   "cell_type": "code",
   "execution_count": 2,
   "id": "d7107713",
   "metadata": {},
   "outputs": [],
   "source": [
    "train_data = 'C:/Dataset/splitted_images2/train'\n",
    "valid_data =  'C:/Dataset/splitted_images2/val'"
   ]
  },
  {
   "cell_type": "code",
   "execution_count": 3,
   "id": "1b07fe0b",
   "metadata": {},
   "outputs": [
    {
     "name": "stdout",
     "output_type": "stream",
     "text": [
      "Chickenpox\n",
      "C:/Dataset/splitted_images2/train\\Chickenpox\\chickenpox1.png\n",
      "C:/Dataset/splitted_images2/train\\Chickenpox\\chickenpox10.png\n",
      "C:/Dataset/splitted_images2/train\\Chickenpox\\chickenpox100.png\n",
      "C:/Dataset/splitted_images2/train\\Chickenpox\\chickenpox101.png\n",
      "C:/Dataset/splitted_images2/train\\Chickenpox\\chickenpox102.png\n",
      "C:/Dataset/splitted_images2/train\\Chickenpox\\chickenpox103.png\n",
      "C:/Dataset/splitted_images2/train\\Chickenpox\\chickenpox104.png\n",
      "C:/Dataset/splitted_images2/train\\Chickenpox\\chickenpox105.png\n",
      "C:/Dataset/splitted_images2/train\\Chickenpox\\chickenpox106.png\n",
      "C:/Dataset/splitted_images2/train\\Chickenpox\\chickenpox107.png\n",
      "C:/Dataset/splitted_images2/train\\Chickenpox\\chickenpox11.png\n",
      "C:/Dataset/splitted_images2/train\\Chickenpox\\chickenpox12.png\n",
      "C:/Dataset/splitted_images2/train\\Chickenpox\\chickenpox13.png\n",
      "C:/Dataset/splitted_images2/train\\Chickenpox\\chickenpox15.png\n",
      "C:/Dataset/splitted_images2/train\\Chickenpox\\chickenpox16.png\n",
      "C:/Dataset/splitted_images2/train\\Chickenpox\\chickenpox17.png\n",
      "C:/Dataset/splitted_images2/train\\Chickenpox\\chickenpox18.png\n",
      "C:/Dataset/splitted_images2/train\\Chickenpox\\chickenpox19.png\n",
      "C:/Dataset/splitted_images2/train\\Chickenpox\\chickenpox2.png\n",
      "C:/Dataset/splitted_images2/train\\Chickenpox\\chickenpox20.png\n",
      "C:/Dataset/splitted_images2/train\\Chickenpox\\chickenpox22.png\n",
      "C:/Dataset/splitted_images2/train\\Chickenpox\\chickenpox23.png\n",
      "C:/Dataset/splitted_images2/train\\Chickenpox\\chickenpox24.png\n",
      "C:/Dataset/splitted_images2/train\\Chickenpox\\chickenpox25.png\n",
      "C:/Dataset/splitted_images2/train\\Chickenpox\\chickenpox27.png\n",
      "C:/Dataset/splitted_images2/train\\Chickenpox\\chickenpox28.png\n",
      "C:/Dataset/splitted_images2/train\\Chickenpox\\chickenpox29.png\n",
      "C:/Dataset/splitted_images2/train\\Chickenpox\\chickenpox3.png\n",
      "C:/Dataset/splitted_images2/train\\Chickenpox\\chickenpox30.png\n",
      "C:/Dataset/splitted_images2/train\\Chickenpox\\chickenpox31.png\n",
      "C:/Dataset/splitted_images2/train\\Chickenpox\\chickenpox32.png\n",
      "C:/Dataset/splitted_images2/train\\Chickenpox\\chickenpox33.png\n",
      "C:/Dataset/splitted_images2/train\\Chickenpox\\chickenpox34.png\n",
      "C:/Dataset/splitted_images2/train\\Chickenpox\\chickenpox35.png\n",
      "C:/Dataset/splitted_images2/train\\Chickenpox\\chickenpox36.png\n",
      "C:/Dataset/splitted_images2/train\\Chickenpox\\chickenpox37.png\n",
      "C:/Dataset/splitted_images2/train\\Chickenpox\\chickenpox39.png\n",
      "C:/Dataset/splitted_images2/train\\Chickenpox\\chickenpox4.png\n",
      "C:/Dataset/splitted_images2/train\\Chickenpox\\chickenpox41.png\n",
      "C:/Dataset/splitted_images2/train\\Chickenpox\\chickenpox42.png\n",
      "C:/Dataset/splitted_images2/train\\Chickenpox\\chickenpox43.png\n",
      "C:/Dataset/splitted_images2/train\\Chickenpox\\chickenpox45.png\n",
      "C:/Dataset/splitted_images2/train\\Chickenpox\\chickenpox46.png\n",
      "C:/Dataset/splitted_images2/train\\Chickenpox\\chickenpox5.png\n",
      "C:/Dataset/splitted_images2/train\\Chickenpox\\chickenpox50.png\n",
      "C:/Dataset/splitted_images2/train\\Chickenpox\\chickenpox52.png\n",
      "C:/Dataset/splitted_images2/train\\Chickenpox\\chickenpox53.png\n",
      "C:/Dataset/splitted_images2/train\\Chickenpox\\chickenpox54.png\n",
      "C:/Dataset/splitted_images2/train\\Chickenpox\\chickenpox55.png\n",
      "C:/Dataset/splitted_images2/train\\Chickenpox\\chickenpox56.png\n",
      "C:/Dataset/splitted_images2/train\\Chickenpox\\chickenpox57.png\n",
      "C:/Dataset/splitted_images2/train\\Chickenpox\\chickenpox58.png\n",
      "C:/Dataset/splitted_images2/train\\Chickenpox\\chickenpox59.png\n",
      "C:/Dataset/splitted_images2/train\\Chickenpox\\chickenpox6.png\n",
      "C:/Dataset/splitted_images2/train\\Chickenpox\\chickenpox60.png\n",
      "C:/Dataset/splitted_images2/train\\Chickenpox\\chickenpox61.png\n",
      "C:/Dataset/splitted_images2/train\\Chickenpox\\chickenpox62.png\n",
      "C:/Dataset/splitted_images2/train\\Chickenpox\\chickenpox63.png\n",
      "C:/Dataset/splitted_images2/train\\Chickenpox\\chickenpox65.png\n",
      "C:/Dataset/splitted_images2/train\\Chickenpox\\chickenpox66.png\n",
      "C:/Dataset/splitted_images2/train\\Chickenpox\\chickenpox67.png\n",
      "C:/Dataset/splitted_images2/train\\Chickenpox\\chickenpox68.png\n",
      "C:/Dataset/splitted_images2/train\\Chickenpox\\chickenpox70.png\n",
      "C:/Dataset/splitted_images2/train\\Chickenpox\\chickenpox71.png\n",
      "C:/Dataset/splitted_images2/train\\Chickenpox\\chickenpox72.png\n",
      "C:/Dataset/splitted_images2/train\\Chickenpox\\chickenpox73.png\n",
      "C:/Dataset/splitted_images2/train\\Chickenpox\\chickenpox75.png\n",
      "C:/Dataset/splitted_images2/train\\Chickenpox\\chickenpox77.png\n",
      "C:/Dataset/splitted_images2/train\\Chickenpox\\chickenpox78.png\n",
      "C:/Dataset/splitted_images2/train\\Chickenpox\\chickenpox8.png\n",
      "C:/Dataset/splitted_images2/train\\Chickenpox\\chickenpox80.png\n",
      "C:/Dataset/splitted_images2/train\\Chickenpox\\chickenpox81.png\n",
      "C:/Dataset/splitted_images2/train\\Chickenpox\\chickenpox82.png\n",
      "C:/Dataset/splitted_images2/train\\Chickenpox\\chickenpox85.png\n",
      "C:/Dataset/splitted_images2/train\\Chickenpox\\chickenpox86.png\n",
      "C:/Dataset/splitted_images2/train\\Chickenpox\\chickenpox88.png\n",
      "C:/Dataset/splitted_images2/train\\Chickenpox\\chickenpox90.png\n",
      "C:/Dataset/splitted_images2/train\\Chickenpox\\chickenpox91.png\n",
      "C:/Dataset/splitted_images2/train\\Chickenpox\\chickenpox92.png\n",
      "C:/Dataset/splitted_images2/train\\Chickenpox\\chickenpox93.png\n",
      "C:/Dataset/splitted_images2/train\\Chickenpox\\chickenpox94.png\n",
      "C:/Dataset/splitted_images2/train\\Chickenpox\\chickenpox95.png\n",
      "C:/Dataset/splitted_images2/train\\Chickenpox\\chickenpox97.png\n",
      "C:/Dataset/splitted_images2/train\\Chickenpox\\chickenpox98.png\n",
      "C:/Dataset/splitted_images2/train\\Chickenpox\\chickenpox99.png\n",
      "Monkeypox\n",
      "C:/Dataset/splitted_images2/train\\Monkeypox\\monkeypox1.png\n",
      "C:/Dataset/splitted_images2/train\\Monkeypox\\monkeypox10.png\n",
      "C:/Dataset/splitted_images2/train\\Monkeypox\\monkeypox100.png\n",
      "C:/Dataset/splitted_images2/train\\Monkeypox\\monkeypox101.png\n",
      "C:/Dataset/splitted_images2/train\\Monkeypox\\monkeypox102.png\n",
      "C:/Dataset/splitted_images2/train\\Monkeypox\\monkeypox103.png\n",
      "C:/Dataset/splitted_images2/train\\Monkeypox\\monkeypox104.png\n",
      "C:/Dataset/splitted_images2/train\\Monkeypox\\monkeypox105.png\n",
      "C:/Dataset/splitted_images2/train\\Monkeypox\\monkeypox106.png\n",
      "C:/Dataset/splitted_images2/train\\Monkeypox\\monkeypox107.png\n",
      "C:/Dataset/splitted_images2/train\\Monkeypox\\monkeypox11.png\n",
      "C:/Dataset/splitted_images2/train\\Monkeypox\\monkeypox12.png\n",
      "C:/Dataset/splitted_images2/train\\Monkeypox\\monkeypox13.png\n",
      "C:/Dataset/splitted_images2/train\\Monkeypox\\monkeypox15.png\n",
      "C:/Dataset/splitted_images2/train\\Monkeypox\\monkeypox16.png\n",
      "C:/Dataset/splitted_images2/train\\Monkeypox\\monkeypox17.png\n",
      "C:/Dataset/splitted_images2/train\\Monkeypox\\monkeypox18.png\n",
      "C:/Dataset/splitted_images2/train\\Monkeypox\\monkeypox19.png\n",
      "C:/Dataset/splitted_images2/train\\Monkeypox\\monkeypox2.png\n",
      "C:/Dataset/splitted_images2/train\\Monkeypox\\monkeypox20.png\n",
      "C:/Dataset/splitted_images2/train\\Monkeypox\\monkeypox22.png\n",
      "C:/Dataset/splitted_images2/train\\Monkeypox\\monkeypox23.png\n",
      "C:/Dataset/splitted_images2/train\\Monkeypox\\monkeypox24.png\n",
      "C:/Dataset/splitted_images2/train\\Monkeypox\\monkeypox25.png\n",
      "C:/Dataset/splitted_images2/train\\Monkeypox\\monkeypox27.png\n",
      "C:/Dataset/splitted_images2/train\\Monkeypox\\monkeypox28.png\n",
      "C:/Dataset/splitted_images2/train\\Monkeypox\\monkeypox29.png\n",
      "C:/Dataset/splitted_images2/train\\Monkeypox\\monkeypox3.png\n",
      "C:/Dataset/splitted_images2/train\\Monkeypox\\monkeypox30.png\n",
      "C:/Dataset/splitted_images2/train\\Monkeypox\\monkeypox31.png\n",
      "C:/Dataset/splitted_images2/train\\Monkeypox\\monkeypox32.png\n",
      "C:/Dataset/splitted_images2/train\\Monkeypox\\monkeypox33.png\n",
      "C:/Dataset/splitted_images2/train\\Monkeypox\\monkeypox34.png\n",
      "C:/Dataset/splitted_images2/train\\Monkeypox\\monkeypox35.png\n",
      "C:/Dataset/splitted_images2/train\\Monkeypox\\monkeypox36.png\n",
      "C:/Dataset/splitted_images2/train\\Monkeypox\\monkeypox37.png\n",
      "C:/Dataset/splitted_images2/train\\Monkeypox\\monkeypox39.png\n",
      "C:/Dataset/splitted_images2/train\\Monkeypox\\monkeypox4.png\n",
      "C:/Dataset/splitted_images2/train\\Monkeypox\\monkeypox41.png\n",
      "C:/Dataset/splitted_images2/train\\Monkeypox\\monkeypox42.png\n",
      "C:/Dataset/splitted_images2/train\\Monkeypox\\monkeypox43.png\n",
      "C:/Dataset/splitted_images2/train\\Monkeypox\\monkeypox45.png\n",
      "C:/Dataset/splitted_images2/train\\Monkeypox\\monkeypox46.png\n",
      "C:/Dataset/splitted_images2/train\\Monkeypox\\monkeypox5.png\n",
      "C:/Dataset/splitted_images2/train\\Monkeypox\\monkeypox50.png\n",
      "C:/Dataset/splitted_images2/train\\Monkeypox\\monkeypox52.png\n",
      "C:/Dataset/splitted_images2/train\\Monkeypox\\monkeypox53.png\n",
      "C:/Dataset/splitted_images2/train\\Monkeypox\\monkeypox54.png\n",
      "C:/Dataset/splitted_images2/train\\Monkeypox\\monkeypox55.png\n",
      "C:/Dataset/splitted_images2/train\\Monkeypox\\monkeypox56.png\n",
      "C:/Dataset/splitted_images2/train\\Monkeypox\\monkeypox57.png\n",
      "C:/Dataset/splitted_images2/train\\Monkeypox\\monkeypox58.png\n",
      "C:/Dataset/splitted_images2/train\\Monkeypox\\monkeypox59.png\n",
      "C:/Dataset/splitted_images2/train\\Monkeypox\\monkeypox6.png\n",
      "C:/Dataset/splitted_images2/train\\Monkeypox\\monkeypox60.png\n",
      "C:/Dataset/splitted_images2/train\\Monkeypox\\monkeypox61.png\n",
      "C:/Dataset/splitted_images2/train\\Monkeypox\\monkeypox62.png\n",
      "C:/Dataset/splitted_images2/train\\Monkeypox\\monkeypox63.png\n",
      "C:/Dataset/splitted_images2/train\\Monkeypox\\monkeypox65.png\n",
      "C:/Dataset/splitted_images2/train\\Monkeypox\\monkeypox66.png\n",
      "C:/Dataset/splitted_images2/train\\Monkeypox\\monkeypox67.png\n",
      "C:/Dataset/splitted_images2/train\\Monkeypox\\monkeypox68.png\n",
      "C:/Dataset/splitted_images2/train\\Monkeypox\\monkeypox70.png\n",
      "C:/Dataset/splitted_images2/train\\Monkeypox\\monkeypox71.png\n",
      "C:/Dataset/splitted_images2/train\\Monkeypox\\monkeypox72.png\n",
      "C:/Dataset/splitted_images2/train\\Monkeypox\\monkeypox73.png\n",
      "C:/Dataset/splitted_images2/train\\Monkeypox\\monkeypox75.png\n",
      "C:/Dataset/splitted_images2/train\\Monkeypox\\monkeypox77.png\n",
      "C:/Dataset/splitted_images2/train\\Monkeypox\\monkeypox78.png\n",
      "C:/Dataset/splitted_images2/train\\Monkeypox\\monkeypox8.png\n"
     ]
    },
    {
     "name": "stdout",
     "output_type": "stream",
     "text": [
      "C:/Dataset/splitted_images2/train\\Monkeypox\\monkeypox80.png\n",
      "C:/Dataset/splitted_images2/train\\Monkeypox\\monkeypox81.png\n",
      "C:/Dataset/splitted_images2/train\\Monkeypox\\monkeypox82.png\n",
      "C:/Dataset/splitted_images2/train\\Monkeypox\\monkeypox85.png\n",
      "C:/Dataset/splitted_images2/train\\Monkeypox\\monkeypox86.png\n",
      "C:/Dataset/splitted_images2/train\\Monkeypox\\monkeypox88.png\n",
      "C:/Dataset/splitted_images2/train\\Monkeypox\\monkeypox90.png\n",
      "C:/Dataset/splitted_images2/train\\Monkeypox\\monkeypox91.png\n",
      "C:/Dataset/splitted_images2/train\\Monkeypox\\monkeypox92.png\n",
      "C:/Dataset/splitted_images2/train\\Monkeypox\\monkeypox93.png\n",
      "C:/Dataset/splitted_images2/train\\Monkeypox\\monkeypox94.png\n",
      "C:/Dataset/splitted_images2/train\\Monkeypox\\monkeypox95.png\n",
      "C:/Dataset/splitted_images2/train\\Monkeypox\\monkeypox97.png\n",
      "C:/Dataset/splitted_images2/train\\Monkeypox\\monkeypox98.png\n",
      "C:/Dataset/splitted_images2/train\\Monkeypox\\monkeypox99.png\n",
      "Normal\n",
      "C:/Dataset/splitted_images2/train\\Normal\\normal1.png\n",
      "C:/Dataset/splitted_images2/train\\Normal\\normal10.png\n",
      "C:/Dataset/splitted_images2/train\\Normal\\normal100.png\n",
      "C:/Dataset/splitted_images2/train\\Normal\\normal101.png\n",
      "C:/Dataset/splitted_images2/train\\Normal\\normal102.png\n",
      "C:/Dataset/splitted_images2/train\\Normal\\normal103.png\n",
      "C:/Dataset/splitted_images2/train\\Normal\\normal104.png\n",
      "C:/Dataset/splitted_images2/train\\Normal\\normal105.png\n",
      "C:/Dataset/splitted_images2/train\\Normal\\normal106.png\n",
      "C:/Dataset/splitted_images2/train\\Normal\\normal107.png\n",
      "C:/Dataset/splitted_images2/train\\Normal\\normal11.png\n",
      "C:/Dataset/splitted_images2/train\\Normal\\normal12.png\n",
      "C:/Dataset/splitted_images2/train\\Normal\\normal13.png\n",
      "C:/Dataset/splitted_images2/train\\Normal\\normal15.png\n",
      "C:/Dataset/splitted_images2/train\\Normal\\normal16.png\n",
      "C:/Dataset/splitted_images2/train\\Normal\\normal17.png\n",
      "C:/Dataset/splitted_images2/train\\Normal\\normal18.png\n",
      "C:/Dataset/splitted_images2/train\\Normal\\normal19.png\n",
      "C:/Dataset/splitted_images2/train\\Normal\\normal2.png\n",
      "C:/Dataset/splitted_images2/train\\Normal\\normal20.png\n",
      "C:/Dataset/splitted_images2/train\\Normal\\normal22.png\n",
      "C:/Dataset/splitted_images2/train\\Normal\\normal23.png\n",
      "C:/Dataset/splitted_images2/train\\Normal\\normal24.png\n",
      "C:/Dataset/splitted_images2/train\\Normal\\normal25.png\n",
      "C:/Dataset/splitted_images2/train\\Normal\\normal27.png\n",
      "C:/Dataset/splitted_images2/train\\Normal\\normal28.png\n",
      "C:/Dataset/splitted_images2/train\\Normal\\normal29.png\n",
      "C:/Dataset/splitted_images2/train\\Normal\\normal3.png\n",
      "C:/Dataset/splitted_images2/train\\Normal\\normal30.png\n",
      "C:/Dataset/splitted_images2/train\\Normal\\normal31.png\n",
      "C:/Dataset/splitted_images2/train\\Normal\\normal32.png\n",
      "C:/Dataset/splitted_images2/train\\Normal\\normal33.png\n",
      "C:/Dataset/splitted_images2/train\\Normal\\normal34.png\n",
      "C:/Dataset/splitted_images2/train\\Normal\\normal35.png\n",
      "C:/Dataset/splitted_images2/train\\Normal\\normal36.png\n",
      "C:/Dataset/splitted_images2/train\\Normal\\normal37.png\n",
      "C:/Dataset/splitted_images2/train\\Normal\\normal39.png\n",
      "C:/Dataset/splitted_images2/train\\Normal\\normal4.png\n",
      "C:/Dataset/splitted_images2/train\\Normal\\normal41.png\n",
      "C:/Dataset/splitted_images2/train\\Normal\\normal42.png\n",
      "C:/Dataset/splitted_images2/train\\Normal\\normal43.png\n",
      "C:/Dataset/splitted_images2/train\\Normal\\normal45.png\n",
      "C:/Dataset/splitted_images2/train\\Normal\\normal46.png\n",
      "C:/Dataset/splitted_images2/train\\Normal\\normal5.png\n",
      "C:/Dataset/splitted_images2/train\\Normal\\normal50.png\n",
      "C:/Dataset/splitted_images2/train\\Normal\\normal52.png\n",
      "C:/Dataset/splitted_images2/train\\Normal\\normal53.png\n",
      "C:/Dataset/splitted_images2/train\\Normal\\normal54.png\n",
      "C:/Dataset/splitted_images2/train\\Normal\\normal55.png\n",
      "C:/Dataset/splitted_images2/train\\Normal\\normal56.png\n",
      "C:/Dataset/splitted_images2/train\\Normal\\normal57.png\n",
      "C:/Dataset/splitted_images2/train\\Normal\\normal58.png\n",
      "C:/Dataset/splitted_images2/train\\Normal\\normal59.png\n",
      "C:/Dataset/splitted_images2/train\\Normal\\normal6.png\n",
      "C:/Dataset/splitted_images2/train\\Normal\\normal60.png\n",
      "C:/Dataset/splitted_images2/train\\Normal\\normal61.png\n",
      "C:/Dataset/splitted_images2/train\\Normal\\normal62.png\n",
      "C:/Dataset/splitted_images2/train\\Normal\\normal63.png\n",
      "C:/Dataset/splitted_images2/train\\Normal\\normal65.png\n",
      "C:/Dataset/splitted_images2/train\\Normal\\normal66.png\n",
      "C:/Dataset/splitted_images2/train\\Normal\\normal67.png\n",
      "C:/Dataset/splitted_images2/train\\Normal\\normal68.png\n",
      "C:/Dataset/splitted_images2/train\\Normal\\normal70.png\n",
      "C:/Dataset/splitted_images2/train\\Normal\\normal71.png\n",
      "C:/Dataset/splitted_images2/train\\Normal\\normal72.png\n",
      "C:/Dataset/splitted_images2/train\\Normal\\normal73.png\n",
      "C:/Dataset/splitted_images2/train\\Normal\\normal75.png\n",
      "C:/Dataset/splitted_images2/train\\Normal\\normal77.png\n",
      "C:/Dataset/splitted_images2/train\\Normal\\normal78.png\n",
      "C:/Dataset/splitted_images2/train\\Normal\\normal8.png\n",
      "C:/Dataset/splitted_images2/train\\Normal\\normal80.png\n",
      "C:/Dataset/splitted_images2/train\\Normal\\normal81.png\n",
      "C:/Dataset/splitted_images2/train\\Normal\\normal82.png\n",
      "C:/Dataset/splitted_images2/train\\Normal\\normal85.png\n",
      "C:/Dataset/splitted_images2/train\\Normal\\normal86.png\n",
      "C:/Dataset/splitted_images2/train\\Normal\\normal88.png\n",
      "C:/Dataset/splitted_images2/train\\Normal\\normal90.png\n",
      "C:/Dataset/splitted_images2/train\\Normal\\normal91.png\n",
      "C:/Dataset/splitted_images2/train\\Normal\\normal92.png\n",
      "C:/Dataset/splitted_images2/train\\Normal\\normal93.png\n",
      "C:/Dataset/splitted_images2/train\\Normal\\normal94.png\n",
      "C:/Dataset/splitted_images2/train\\Normal\\normal95.png\n",
      "C:/Dataset/splitted_images2/train\\Normal\\normal97.png\n",
      "C:/Dataset/splitted_images2/train\\Normal\\normal98.png\n",
      "C:/Dataset/splitted_images2/train\\Normal\\normal99.png\n"
     ]
    }
   ],
   "source": [
    "#Capture training data and labels into respective lists\n",
    "train_images = []\n",
    "train_labels = [] \n",
    "\n",
    "for directory_path in glob.glob(\"C:/Dataset/splitted_images2/train/*\"):\n",
    "    label = directory_path.split(\"\\\\\")[-1]\n",
    "    print(label)\n",
    "    for img_path in glob.glob(os.path.join(directory_path, \"*.png\")):\n",
    "        print(img_path)\n",
    "        img = cv.imread(img_path, cv.IMREAD_COLOR)       \n",
    "        img = cv.resize(img, (SIZE, SIZE))\n",
    "        img = cv.cvtColor(img, cv.COLOR_RGB2BGR)\n",
    "        train_images.append(img)\n",
    "        train_labels.append(label)"
   ]
  },
  {
   "cell_type": "code",
   "execution_count": 4,
   "id": "9bcbf290",
   "metadata": {},
   "outputs": [],
   "source": [
    "train_images = np.array(train_images)\n",
    "train_labels = np.array(train_labels)"
   ]
  },
  {
   "cell_type": "code",
   "execution_count": 5,
   "id": "3ebc2a72",
   "metadata": {},
   "outputs": [],
   "source": [
    "test_images = []\n",
    "test_labels = [] \n",
    "for directory_path in glob.glob(\"C:/Dataset/splitted_images2/val/*\"):\n",
    "    label2 = directory_path.split(\"\\\\\")[-1]\n",
    "    #print(label2)\n",
    "    for img_path in glob.glob(os.path.join(directory_path, \"*.png\")):\n",
    "        img = cv.imread(img_path, cv.IMREAD_COLOR)\n",
    "        img = cv.resize(img, (SIZE, SIZE))\n",
    "        img = cv.cvtColor(img, cv.COLOR_RGB2BGR)\n",
    "        test_images.append(img)\n",
    "        test_labels.append(label2)"
   ]
  },
  {
   "cell_type": "code",
   "execution_count": 6,
   "id": "f64a221f",
   "metadata": {},
   "outputs": [],
   "source": [
    "## Convert lists to arrays                \n",
    "test_images = np.array(test_images)\n",
    "test_labels = np.array(test_labels)"
   ]
  },
  {
   "cell_type": "code",
   "execution_count": 7,
   "id": "7b0c94a9",
   "metadata": {},
   "outputs": [
    {
     "name": "stdout",
     "output_type": "stream",
     "text": [
      "(63, 224, 224, 3)\n",
      "(63,)\n"
     ]
    }
   ],
   "source": [
    "print(test_images.shape)\n",
    "print(test_labels.shape)"
   ]
  },
  {
   "cell_type": "code",
   "execution_count": 8,
   "id": "4275b714",
   "metadata": {},
   "outputs": [],
   "source": [
    "le = LabelEncoder()\n",
    "test_labels_encoded= le.fit_transform(test_labels)\n",
    "train_labels_encoded= le.fit_transform(train_labels)"
   ]
  },
  {
   "cell_type": "code",
   "execution_count": 9,
   "id": "e5d97662",
   "metadata": {},
   "outputs": [],
   "source": [
    "X_train , y_train , X_test , y_test = train_images, train_labels_encoded, test_images, test_labels_encoded"
   ]
  },
  {
   "cell_type": "code",
   "execution_count": 10,
   "id": "1a532bc4",
   "metadata": {},
   "outputs": [],
   "source": [
    "X_train = np.array(X_train)\n",
    "X_test = np.array(X_test)"
   ]
  },
  {
   "cell_type": "code",
   "execution_count": 11,
   "id": "60e94c65",
   "metadata": {},
   "outputs": [],
   "source": [
    "X_train , X_test = X_train / 255.0 , X_test / 255.0"
   ]
  },
  {
   "cell_type": "code",
   "execution_count": 12,
   "id": "421f2537",
   "metadata": {},
   "outputs": [
    {
     "name": "stdout",
     "output_type": "stream",
     "text": [
      "float64\n",
      "float64\n"
     ]
    }
   ],
   "source": [
    "print(X_train.dtype)\n",
    "print(X_test.dtype)"
   ]
  },
  {
   "cell_type": "code",
   "execution_count": 13,
   "id": "d185b0d3",
   "metadata": {},
   "outputs": [],
   "source": [
    "#y_train_oneHot_encoder = to_categorical(y_train).astype('float64')\n",
    "#y_test_oneHot_encoder = to_categorical(y_test).astype('float64')"
   ]
  },
  {
   "cell_type": "code",
   "execution_count": 14,
   "id": "949bfcb2",
   "metadata": {},
   "outputs": [
    {
     "data": {
      "text/plain": [
       "(63, 224, 224, 3)"
      ]
     },
     "execution_count": 14,
     "metadata": {},
     "output_type": "execute_result"
    }
   ],
   "source": [
    "X_test.shape"
   ]
  },
  {
   "cell_type": "code",
   "execution_count": 15,
   "id": "ee9fe594",
   "metadata": {},
   "outputs": [],
   "source": [
    "cnn_resnet = ResNet50(include_top=False , weights='imagenet', input_shape= (SIZE,SIZE,3)  )"
   ]
  },
  {
   "cell_type": "code",
   "execution_count": 16,
   "id": "cd83e83f",
   "metadata": {},
   "outputs": [
    {
     "name": "stdout",
     "output_type": "stream",
     "text": [
      "Model: \"resnet50\"\n",
      "__________________________________________________________________________________________________\n",
      " Layer (type)                   Output Shape         Param #     Connected to                     \n",
      "==================================================================================================\n",
      " input_1 (InputLayer)           [(None, 224, 224, 3  0           []                               \n",
      "                                )]                                                                \n",
      "                                                                                                  \n",
      " conv1_pad (ZeroPadding2D)      (None, 230, 230, 3)  0           ['input_1[0][0]']                \n",
      "                                                                                                  \n",
      " conv1_conv (Conv2D)            (None, 112, 112, 64  9472        ['conv1_pad[0][0]']              \n",
      "                                )                                                                 \n",
      "                                                                                                  \n",
      " conv1_bn (BatchNormalization)  (None, 112, 112, 64  256         ['conv1_conv[0][0]']             \n",
      "                                )                                                                 \n",
      "                                                                                                  \n",
      " conv1_relu (Activation)        (None, 112, 112, 64  0           ['conv1_bn[0][0]']               \n",
      "                                )                                                                 \n",
      "                                                                                                  \n",
      " pool1_pad (ZeroPadding2D)      (None, 114, 114, 64  0           ['conv1_relu[0][0]']             \n",
      "                                )                                                                 \n",
      "                                                                                                  \n",
      " pool1_pool (MaxPooling2D)      (None, 56, 56, 64)   0           ['pool1_pad[0][0]']              \n",
      "                                                                                                  \n",
      " conv2_block1_1_conv (Conv2D)   (None, 56, 56, 64)   4160        ['pool1_pool[0][0]']             \n",
      "                                                                                                  \n",
      " conv2_block1_1_bn (BatchNormal  (None, 56, 56, 64)  256         ['conv2_block1_1_conv[0][0]']    \n",
      " ization)                                                                                         \n",
      "                                                                                                  \n",
      " conv2_block1_1_relu (Activatio  (None, 56, 56, 64)  0           ['conv2_block1_1_bn[0][0]']      \n",
      " n)                                                                                               \n",
      "                                                                                                  \n",
      " conv2_block1_2_conv (Conv2D)   (None, 56, 56, 64)   36928       ['conv2_block1_1_relu[0][0]']    \n",
      "                                                                                                  \n",
      " conv2_block1_2_bn (BatchNormal  (None, 56, 56, 64)  256         ['conv2_block1_2_conv[0][0]']    \n",
      " ization)                                                                                         \n",
      "                                                                                                  \n",
      " conv2_block1_2_relu (Activatio  (None, 56, 56, 64)  0           ['conv2_block1_2_bn[0][0]']      \n",
      " n)                                                                                               \n",
      "                                                                                                  \n",
      " conv2_block1_0_conv (Conv2D)   (None, 56, 56, 256)  16640       ['pool1_pool[0][0]']             \n",
      "                                                                                                  \n",
      " conv2_block1_3_conv (Conv2D)   (None, 56, 56, 256)  16640       ['conv2_block1_2_relu[0][0]']    \n",
      "                                                                                                  \n",
      " conv2_block1_0_bn (BatchNormal  (None, 56, 56, 256)  1024       ['conv2_block1_0_conv[0][0]']    \n",
      " ization)                                                                                         \n",
      "                                                                                                  \n",
      " conv2_block1_3_bn (BatchNormal  (None, 56, 56, 256)  1024       ['conv2_block1_3_conv[0][0]']    \n",
      " ization)                                                                                         \n",
      "                                                                                                  \n",
      " conv2_block1_add (Add)         (None, 56, 56, 256)  0           ['conv2_block1_0_bn[0][0]',      \n",
      "                                                                  'conv2_block1_3_bn[0][0]']      \n",
      "                                                                                                  \n",
      " conv2_block1_out (Activation)  (None, 56, 56, 256)  0           ['conv2_block1_add[0][0]']       \n",
      "                                                                                                  \n",
      " conv2_block2_1_conv (Conv2D)   (None, 56, 56, 64)   16448       ['conv2_block1_out[0][0]']       \n",
      "                                                                                                  \n",
      " conv2_block2_1_bn (BatchNormal  (None, 56, 56, 64)  256         ['conv2_block2_1_conv[0][0]']    \n",
      " ization)                                                                                         \n",
      "                                                                                                  \n",
      " conv2_block2_1_relu (Activatio  (None, 56, 56, 64)  0           ['conv2_block2_1_bn[0][0]']      \n",
      " n)                                                                                               \n",
      "                                                                                                  \n",
      " conv2_block2_2_conv (Conv2D)   (None, 56, 56, 64)   36928       ['conv2_block2_1_relu[0][0]']    \n",
      "                                                                                                  \n",
      " conv2_block2_2_bn (BatchNormal  (None, 56, 56, 64)  256         ['conv2_block2_2_conv[0][0]']    \n",
      " ization)                                                                                         \n",
      "                                                                                                  \n",
      " conv2_block2_2_relu (Activatio  (None, 56, 56, 64)  0           ['conv2_block2_2_bn[0][0]']      \n",
      " n)                                                                                               \n",
      "                                                                                                  \n",
      " conv2_block2_3_conv (Conv2D)   (None, 56, 56, 256)  16640       ['conv2_block2_2_relu[0][0]']    \n",
      "                                                                                                  \n",
      " conv2_block2_3_bn (BatchNormal  (None, 56, 56, 256)  1024       ['conv2_block2_3_conv[0][0]']    \n",
      " ization)                                                                                         \n",
      "                                                                                                  \n",
      " conv2_block2_add (Add)         (None, 56, 56, 256)  0           ['conv2_block1_out[0][0]',       \n",
      "                                                                  'conv2_block2_3_bn[0][0]']      \n",
      "                                                                                                  \n",
      " conv2_block2_out (Activation)  (None, 56, 56, 256)  0           ['conv2_block2_add[0][0]']       \n",
      "                                                                                                  \n",
      " conv2_block3_1_conv (Conv2D)   (None, 56, 56, 64)   16448       ['conv2_block2_out[0][0]']       \n",
      "                                                                                                  \n",
      " conv2_block3_1_bn (BatchNormal  (None, 56, 56, 64)  256         ['conv2_block3_1_conv[0][0]']    \n",
      " ization)                                                                                         \n"
     ]
    },
    {
     "name": "stdout",
     "output_type": "stream",
     "text": [
      "                                                                                                  \n",
      " conv2_block3_1_relu (Activatio  (None, 56, 56, 64)  0           ['conv2_block3_1_bn[0][0]']      \n",
      " n)                                                                                               \n",
      "                                                                                                  \n",
      " conv2_block3_2_conv (Conv2D)   (None, 56, 56, 64)   36928       ['conv2_block3_1_relu[0][0]']    \n",
      "                                                                                                  \n",
      " conv2_block3_2_bn (BatchNormal  (None, 56, 56, 64)  256         ['conv2_block3_2_conv[0][0]']    \n",
      " ization)                                                                                         \n",
      "                                                                                                  \n",
      " conv2_block3_2_relu (Activatio  (None, 56, 56, 64)  0           ['conv2_block3_2_bn[0][0]']      \n",
      " n)                                                                                               \n",
      "                                                                                                  \n",
      " conv2_block3_3_conv (Conv2D)   (None, 56, 56, 256)  16640       ['conv2_block3_2_relu[0][0]']    \n",
      "                                                                                                  \n",
      " conv2_block3_3_bn (BatchNormal  (None, 56, 56, 256)  1024       ['conv2_block3_3_conv[0][0]']    \n",
      " ization)                                                                                         \n",
      "                                                                                                  \n",
      " conv2_block3_add (Add)         (None, 56, 56, 256)  0           ['conv2_block2_out[0][0]',       \n",
      "                                                                  'conv2_block3_3_bn[0][0]']      \n",
      "                                                                                                  \n",
      " conv2_block3_out (Activation)  (None, 56, 56, 256)  0           ['conv2_block3_add[0][0]']       \n",
      "                                                                                                  \n",
      " conv3_block1_1_conv (Conv2D)   (None, 28, 28, 128)  32896       ['conv2_block3_out[0][0]']       \n",
      "                                                                                                  \n",
      " conv3_block1_1_bn (BatchNormal  (None, 28, 28, 128)  512        ['conv3_block1_1_conv[0][0]']    \n",
      " ization)                                                                                         \n",
      "                                                                                                  \n",
      " conv3_block1_1_relu (Activatio  (None, 28, 28, 128)  0          ['conv3_block1_1_bn[0][0]']      \n",
      " n)                                                                                               \n",
      "                                                                                                  \n",
      " conv3_block1_2_conv (Conv2D)   (None, 28, 28, 128)  147584      ['conv3_block1_1_relu[0][0]']    \n",
      "                                                                                                  \n",
      " conv3_block1_2_bn (BatchNormal  (None, 28, 28, 128)  512        ['conv3_block1_2_conv[0][0]']    \n",
      " ization)                                                                                         \n",
      "                                                                                                  \n",
      " conv3_block1_2_relu (Activatio  (None, 28, 28, 128)  0          ['conv3_block1_2_bn[0][0]']      \n",
      " n)                                                                                               \n",
      "                                                                                                  \n",
      " conv3_block1_0_conv (Conv2D)   (None, 28, 28, 512)  131584      ['conv2_block3_out[0][0]']       \n",
      "                                                                                                  \n",
      " conv3_block1_3_conv (Conv2D)   (None, 28, 28, 512)  66048       ['conv3_block1_2_relu[0][0]']    \n",
      "                                                                                                  \n",
      " conv3_block1_0_bn (BatchNormal  (None, 28, 28, 512)  2048       ['conv3_block1_0_conv[0][0]']    \n",
      " ization)                                                                                         \n",
      "                                                                                                  \n",
      " conv3_block1_3_bn (BatchNormal  (None, 28, 28, 512)  2048       ['conv3_block1_3_conv[0][0]']    \n",
      " ization)                                                                                         \n",
      "                                                                                                  \n",
      " conv3_block1_add (Add)         (None, 28, 28, 512)  0           ['conv3_block1_0_bn[0][0]',      \n",
      "                                                                  'conv3_block1_3_bn[0][0]']      \n",
      "                                                                                                  \n",
      " conv3_block1_out (Activation)  (None, 28, 28, 512)  0           ['conv3_block1_add[0][0]']       \n",
      "                                                                                                  \n",
      " conv3_block2_1_conv (Conv2D)   (None, 28, 28, 128)  65664       ['conv3_block1_out[0][0]']       \n",
      "                                                                                                  \n",
      " conv3_block2_1_bn (BatchNormal  (None, 28, 28, 128)  512        ['conv3_block2_1_conv[0][0]']    \n",
      " ization)                                                                                         \n",
      "                                                                                                  \n",
      " conv3_block2_1_relu (Activatio  (None, 28, 28, 128)  0          ['conv3_block2_1_bn[0][0]']      \n",
      " n)                                                                                               \n",
      "                                                                                                  \n",
      " conv3_block2_2_conv (Conv2D)   (None, 28, 28, 128)  147584      ['conv3_block2_1_relu[0][0]']    \n",
      "                                                                                                  \n",
      " conv3_block2_2_bn (BatchNormal  (None, 28, 28, 128)  512        ['conv3_block2_2_conv[0][0]']    \n",
      " ization)                                                                                         \n",
      "                                                                                                  \n",
      " conv3_block2_2_relu (Activatio  (None, 28, 28, 128)  0          ['conv3_block2_2_bn[0][0]']      \n",
      " n)                                                                                               \n",
      "                                                                                                  \n",
      " conv3_block2_3_conv (Conv2D)   (None, 28, 28, 512)  66048       ['conv3_block2_2_relu[0][0]']    \n",
      "                                                                                                  \n",
      " conv3_block2_3_bn (BatchNormal  (None, 28, 28, 512)  2048       ['conv3_block2_3_conv[0][0]']    \n",
      " ization)                                                                                         \n",
      "                                                                                                  \n",
      " conv3_block2_add (Add)         (None, 28, 28, 512)  0           ['conv3_block1_out[0][0]',       \n",
      "                                                                  'conv3_block2_3_bn[0][0]']      \n",
      "                                                                                                  \n",
      " conv3_block2_out (Activation)  (None, 28, 28, 512)  0           ['conv3_block2_add[0][0]']       \n",
      "                                                                                                  \n",
      " conv3_block3_1_conv (Conv2D)   (None, 28, 28, 128)  65664       ['conv3_block2_out[0][0]']       \n",
      "                                                                                                  \n",
      " conv3_block3_1_bn (BatchNormal  (None, 28, 28, 128)  512        ['conv3_block3_1_conv[0][0]']    \n",
      " ization)                                                                                         \n"
     ]
    },
    {
     "name": "stdout",
     "output_type": "stream",
     "text": [
      "                                                                                                  \n",
      " conv3_block3_1_relu (Activatio  (None, 28, 28, 128)  0          ['conv3_block3_1_bn[0][0]']      \n",
      " n)                                                                                               \n",
      "                                                                                                  \n",
      " conv3_block3_2_conv (Conv2D)   (None, 28, 28, 128)  147584      ['conv3_block3_1_relu[0][0]']    \n",
      "                                                                                                  \n",
      " conv3_block3_2_bn (BatchNormal  (None, 28, 28, 128)  512        ['conv3_block3_2_conv[0][0]']    \n",
      " ization)                                                                                         \n",
      "                                                                                                  \n",
      " conv3_block3_2_relu (Activatio  (None, 28, 28, 128)  0          ['conv3_block3_2_bn[0][0]']      \n",
      " n)                                                                                               \n",
      "                                                                                                  \n",
      " conv3_block3_3_conv (Conv2D)   (None, 28, 28, 512)  66048       ['conv3_block3_2_relu[0][0]']    \n",
      "                                                                                                  \n",
      " conv3_block3_3_bn (BatchNormal  (None, 28, 28, 512)  2048       ['conv3_block3_3_conv[0][0]']    \n",
      " ization)                                                                                         \n",
      "                                                                                                  \n",
      " conv3_block3_add (Add)         (None, 28, 28, 512)  0           ['conv3_block2_out[0][0]',       \n",
      "                                                                  'conv3_block3_3_bn[0][0]']      \n",
      "                                                                                                  \n",
      " conv3_block3_out (Activation)  (None, 28, 28, 512)  0           ['conv3_block3_add[0][0]']       \n",
      "                                                                                                  \n",
      " conv3_block4_1_conv (Conv2D)   (None, 28, 28, 128)  65664       ['conv3_block3_out[0][0]']       \n",
      "                                                                                                  \n",
      " conv3_block4_1_bn (BatchNormal  (None, 28, 28, 128)  512        ['conv3_block4_1_conv[0][0]']    \n",
      " ization)                                                                                         \n",
      "                                                                                                  \n",
      " conv3_block4_1_relu (Activatio  (None, 28, 28, 128)  0          ['conv3_block4_1_bn[0][0]']      \n",
      " n)                                                                                               \n",
      "                                                                                                  \n",
      " conv3_block4_2_conv (Conv2D)   (None, 28, 28, 128)  147584      ['conv3_block4_1_relu[0][0]']    \n",
      "                                                                                                  \n",
      " conv3_block4_2_bn (BatchNormal  (None, 28, 28, 128)  512        ['conv3_block4_2_conv[0][0]']    \n",
      " ization)                                                                                         \n",
      "                                                                                                  \n",
      " conv3_block4_2_relu (Activatio  (None, 28, 28, 128)  0          ['conv3_block4_2_bn[0][0]']      \n",
      " n)                                                                                               \n",
      "                                                                                                  \n",
      " conv3_block4_3_conv (Conv2D)   (None, 28, 28, 512)  66048       ['conv3_block4_2_relu[0][0]']    \n",
      "                                                                                                  \n",
      " conv3_block4_3_bn (BatchNormal  (None, 28, 28, 512)  2048       ['conv3_block4_3_conv[0][0]']    \n",
      " ization)                                                                                         \n",
      "                                                                                                  \n",
      " conv3_block4_add (Add)         (None, 28, 28, 512)  0           ['conv3_block3_out[0][0]',       \n",
      "                                                                  'conv3_block4_3_bn[0][0]']      \n",
      "                                                                                                  \n",
      " conv3_block4_out (Activation)  (None, 28, 28, 512)  0           ['conv3_block4_add[0][0]']       \n",
      "                                                                                                  \n",
      " conv4_block1_1_conv (Conv2D)   (None, 14, 14, 256)  131328      ['conv3_block4_out[0][0]']       \n",
      "                                                                                                  \n",
      " conv4_block1_1_bn (BatchNormal  (None, 14, 14, 256)  1024       ['conv4_block1_1_conv[0][0]']    \n",
      " ization)                                                                                         \n",
      "                                                                                                  \n",
      " conv4_block1_1_relu (Activatio  (None, 14, 14, 256)  0          ['conv4_block1_1_bn[0][0]']      \n",
      " n)                                                                                               \n",
      "                                                                                                  \n",
      " conv4_block1_2_conv (Conv2D)   (None, 14, 14, 256)  590080      ['conv4_block1_1_relu[0][0]']    \n",
      "                                                                                                  \n",
      " conv4_block1_2_bn (BatchNormal  (None, 14, 14, 256)  1024       ['conv4_block1_2_conv[0][0]']    \n",
      " ization)                                                                                         \n",
      "                                                                                                  \n",
      " conv4_block1_2_relu (Activatio  (None, 14, 14, 256)  0          ['conv4_block1_2_bn[0][0]']      \n",
      " n)                                                                                               \n",
      "                                                                                                  \n",
      " conv4_block1_0_conv (Conv2D)   (None, 14, 14, 1024  525312      ['conv3_block4_out[0][0]']       \n",
      "                                )                                                                 \n",
      "                                                                                                  \n",
      " conv4_block1_3_conv (Conv2D)   (None, 14, 14, 1024  263168      ['conv4_block1_2_relu[0][0]']    \n",
      "                                )                                                                 \n",
      "                                                                                                  \n",
      " conv4_block1_0_bn (BatchNormal  (None, 14, 14, 1024  4096       ['conv4_block1_0_conv[0][0]']    \n",
      " ization)                       )                                                                 \n",
      "                                                                                                  \n",
      " conv4_block1_3_bn (BatchNormal  (None, 14, 14, 1024  4096       ['conv4_block1_3_conv[0][0]']    \n",
      " ization)                       )                                                                 \n",
      "                                                                                                  \n",
      " conv4_block1_add (Add)         (None, 14, 14, 1024  0           ['conv4_block1_0_bn[0][0]',      \n",
      "                                )                                 'conv4_block1_3_bn[0][0]']      \n",
      "                                                                                                  \n",
      " conv4_block1_out (Activation)  (None, 14, 14, 1024  0           ['conv4_block1_add[0][0]']       \n",
      "                                )                                                                 \n",
      "                                                                                                  \n",
      " conv4_block2_1_conv (Conv2D)   (None, 14, 14, 256)  262400      ['conv4_block1_out[0][0]']       \n"
     ]
    },
    {
     "name": "stdout",
     "output_type": "stream",
     "text": [
      "                                                                                                  \n",
      " conv4_block2_1_bn (BatchNormal  (None, 14, 14, 256)  1024       ['conv4_block2_1_conv[0][0]']    \n",
      " ization)                                                                                         \n",
      "                                                                                                  \n",
      " conv4_block2_1_relu (Activatio  (None, 14, 14, 256)  0          ['conv4_block2_1_bn[0][0]']      \n",
      " n)                                                                                               \n",
      "                                                                                                  \n",
      " conv4_block2_2_conv (Conv2D)   (None, 14, 14, 256)  590080      ['conv4_block2_1_relu[0][0]']    \n",
      "                                                                                                  \n",
      " conv4_block2_2_bn (BatchNormal  (None, 14, 14, 256)  1024       ['conv4_block2_2_conv[0][0]']    \n",
      " ization)                                                                                         \n",
      "                                                                                                  \n",
      " conv4_block2_2_relu (Activatio  (None, 14, 14, 256)  0          ['conv4_block2_2_bn[0][0]']      \n",
      " n)                                                                                               \n",
      "                                                                                                  \n",
      " conv4_block2_3_conv (Conv2D)   (None, 14, 14, 1024  263168      ['conv4_block2_2_relu[0][0]']    \n",
      "                                )                                                                 \n",
      "                                                                                                  \n",
      " conv4_block2_3_bn (BatchNormal  (None, 14, 14, 1024  4096       ['conv4_block2_3_conv[0][0]']    \n",
      " ization)                       )                                                                 \n",
      "                                                                                                  \n",
      " conv4_block2_add (Add)         (None, 14, 14, 1024  0           ['conv4_block1_out[0][0]',       \n",
      "                                )                                 'conv4_block2_3_bn[0][0]']      \n",
      "                                                                                                  \n",
      " conv4_block2_out (Activation)  (None, 14, 14, 1024  0           ['conv4_block2_add[0][0]']       \n",
      "                                )                                                                 \n",
      "                                                                                                  \n",
      " conv4_block3_1_conv (Conv2D)   (None, 14, 14, 256)  262400      ['conv4_block2_out[0][0]']       \n",
      "                                                                                                  \n",
      " conv4_block3_1_bn (BatchNormal  (None, 14, 14, 256)  1024       ['conv4_block3_1_conv[0][0]']    \n",
      " ization)                                                                                         \n",
      "                                                                                                  \n",
      " conv4_block3_1_relu (Activatio  (None, 14, 14, 256)  0          ['conv4_block3_1_bn[0][0]']      \n",
      " n)                                                                                               \n",
      "                                                                                                  \n",
      " conv4_block3_2_conv (Conv2D)   (None, 14, 14, 256)  590080      ['conv4_block3_1_relu[0][0]']    \n",
      "                                                                                                  \n",
      " conv4_block3_2_bn (BatchNormal  (None, 14, 14, 256)  1024       ['conv4_block3_2_conv[0][0]']    \n",
      " ization)                                                                                         \n",
      "                                                                                                  \n",
      " conv4_block3_2_relu (Activatio  (None, 14, 14, 256)  0          ['conv4_block3_2_bn[0][0]']      \n",
      " n)                                                                                               \n",
      "                                                                                                  \n",
      " conv4_block3_3_conv (Conv2D)   (None, 14, 14, 1024  263168      ['conv4_block3_2_relu[0][0]']    \n",
      "                                )                                                                 \n",
      "                                                                                                  \n",
      " conv4_block3_3_bn (BatchNormal  (None, 14, 14, 1024  4096       ['conv4_block3_3_conv[0][0]']    \n",
      " ization)                       )                                                                 \n",
      "                                                                                                  \n",
      " conv4_block3_add (Add)         (None, 14, 14, 1024  0           ['conv4_block2_out[0][0]',       \n",
      "                                )                                 'conv4_block3_3_bn[0][0]']      \n",
      "                                                                                                  \n",
      " conv4_block3_out (Activation)  (None, 14, 14, 1024  0           ['conv4_block3_add[0][0]']       \n",
      "                                )                                                                 \n",
      "                                                                                                  \n",
      " conv4_block4_1_conv (Conv2D)   (None, 14, 14, 256)  262400      ['conv4_block3_out[0][0]']       \n",
      "                                                                                                  \n",
      " conv4_block4_1_bn (BatchNormal  (None, 14, 14, 256)  1024       ['conv4_block4_1_conv[0][0]']    \n",
      " ization)                                                                                         \n",
      "                                                                                                  \n",
      " conv4_block4_1_relu (Activatio  (None, 14, 14, 256)  0          ['conv4_block4_1_bn[0][0]']      \n",
      " n)                                                                                               \n",
      "                                                                                                  \n",
      " conv4_block4_2_conv (Conv2D)   (None, 14, 14, 256)  590080      ['conv4_block4_1_relu[0][0]']    \n",
      "                                                                                                  \n",
      " conv4_block4_2_bn (BatchNormal  (None, 14, 14, 256)  1024       ['conv4_block4_2_conv[0][0]']    \n",
      " ization)                                                                                         \n",
      "                                                                                                  \n",
      " conv4_block4_2_relu (Activatio  (None, 14, 14, 256)  0          ['conv4_block4_2_bn[0][0]']      \n",
      " n)                                                                                               \n",
      "                                                                                                  \n",
      " conv4_block4_3_conv (Conv2D)   (None, 14, 14, 1024  263168      ['conv4_block4_2_relu[0][0]']    \n",
      "                                )                                                                 \n",
      "                                                                                                  \n",
      " conv4_block4_3_bn (BatchNormal  (None, 14, 14, 1024  4096       ['conv4_block4_3_conv[0][0]']    \n",
      " ization)                       )                                                                 \n",
      "                                                                                                  \n",
      " conv4_block4_add (Add)         (None, 14, 14, 1024  0           ['conv4_block3_out[0][0]',       \n",
      "                                )                                 'conv4_block4_3_bn[0][0]']      \n",
      "                                                                                                  \n",
      " conv4_block4_out (Activation)  (None, 14, 14, 1024  0           ['conv4_block4_add[0][0]']       \n",
      "                                )                                                                 \n",
      "                                                                                                  \n"
     ]
    },
    {
     "name": "stdout",
     "output_type": "stream",
     "text": [
      " conv4_block5_1_conv (Conv2D)   (None, 14, 14, 256)  262400      ['conv4_block4_out[0][0]']       \n",
      "                                                                                                  \n",
      " conv4_block5_1_bn (BatchNormal  (None, 14, 14, 256)  1024       ['conv4_block5_1_conv[0][0]']    \n",
      " ization)                                                                                         \n",
      "                                                                                                  \n",
      " conv4_block5_1_relu (Activatio  (None, 14, 14, 256)  0          ['conv4_block5_1_bn[0][0]']      \n",
      " n)                                                                                               \n",
      "                                                                                                  \n",
      " conv4_block5_2_conv (Conv2D)   (None, 14, 14, 256)  590080      ['conv4_block5_1_relu[0][0]']    \n",
      "                                                                                                  \n",
      " conv4_block5_2_bn (BatchNormal  (None, 14, 14, 256)  1024       ['conv4_block5_2_conv[0][0]']    \n",
      " ization)                                                                                         \n",
      "                                                                                                  \n",
      " conv4_block5_2_relu (Activatio  (None, 14, 14, 256)  0          ['conv4_block5_2_bn[0][0]']      \n",
      " n)                                                                                               \n",
      "                                                                                                  \n",
      " conv4_block5_3_conv (Conv2D)   (None, 14, 14, 1024  263168      ['conv4_block5_2_relu[0][0]']    \n",
      "                                )                                                                 \n",
      "                                                                                                  \n",
      " conv4_block5_3_bn (BatchNormal  (None, 14, 14, 1024  4096       ['conv4_block5_3_conv[0][0]']    \n",
      " ization)                       )                                                                 \n",
      "                                                                                                  \n",
      " conv4_block5_add (Add)         (None, 14, 14, 1024  0           ['conv4_block4_out[0][0]',       \n",
      "                                )                                 'conv4_block5_3_bn[0][0]']      \n",
      "                                                                                                  \n",
      " conv4_block5_out (Activation)  (None, 14, 14, 1024  0           ['conv4_block5_add[0][0]']       \n",
      "                                )                                                                 \n",
      "                                                                                                  \n",
      " conv4_block6_1_conv (Conv2D)   (None, 14, 14, 256)  262400      ['conv4_block5_out[0][0]']       \n",
      "                                                                                                  \n",
      " conv4_block6_1_bn (BatchNormal  (None, 14, 14, 256)  1024       ['conv4_block6_1_conv[0][0]']    \n",
      " ization)                                                                                         \n",
      "                                                                                                  \n",
      " conv4_block6_1_relu (Activatio  (None, 14, 14, 256)  0          ['conv4_block6_1_bn[0][0]']      \n",
      " n)                                                                                               \n",
      "                                                                                                  \n",
      " conv4_block6_2_conv (Conv2D)   (None, 14, 14, 256)  590080      ['conv4_block6_1_relu[0][0]']    \n",
      "                                                                                                  \n",
      " conv4_block6_2_bn (BatchNormal  (None, 14, 14, 256)  1024       ['conv4_block6_2_conv[0][0]']    \n",
      " ization)                                                                                         \n",
      "                                                                                                  \n",
      " conv4_block6_2_relu (Activatio  (None, 14, 14, 256)  0          ['conv4_block6_2_bn[0][0]']      \n",
      " n)                                                                                               \n",
      "                                                                                                  \n",
      " conv4_block6_3_conv (Conv2D)   (None, 14, 14, 1024  263168      ['conv4_block6_2_relu[0][0]']    \n",
      "                                )                                                                 \n",
      "                                                                                                  \n",
      " conv4_block6_3_bn (BatchNormal  (None, 14, 14, 1024  4096       ['conv4_block6_3_conv[0][0]']    \n",
      " ization)                       )                                                                 \n",
      "                                                                                                  \n",
      " conv4_block6_add (Add)         (None, 14, 14, 1024  0           ['conv4_block5_out[0][0]',       \n",
      "                                )                                 'conv4_block6_3_bn[0][0]']      \n",
      "                                                                                                  \n",
      " conv4_block6_out (Activation)  (None, 14, 14, 1024  0           ['conv4_block6_add[0][0]']       \n",
      "                                )                                                                 \n",
      "                                                                                                  \n",
      " conv5_block1_1_conv (Conv2D)   (None, 7, 7, 512)    524800      ['conv4_block6_out[0][0]']       \n",
      "                                                                                                  \n",
      " conv5_block1_1_bn (BatchNormal  (None, 7, 7, 512)   2048        ['conv5_block1_1_conv[0][0]']    \n",
      " ization)                                                                                         \n",
      "                                                                                                  \n",
      " conv5_block1_1_relu (Activatio  (None, 7, 7, 512)   0           ['conv5_block1_1_bn[0][0]']      \n",
      " n)                                                                                               \n",
      "                                                                                                  \n",
      " conv5_block1_2_conv (Conv2D)   (None, 7, 7, 512)    2359808     ['conv5_block1_1_relu[0][0]']    \n",
      "                                                                                                  \n",
      " conv5_block1_2_bn (BatchNormal  (None, 7, 7, 512)   2048        ['conv5_block1_2_conv[0][0]']    \n",
      " ization)                                                                                         \n",
      "                                                                                                  \n",
      " conv5_block1_2_relu (Activatio  (None, 7, 7, 512)   0           ['conv5_block1_2_bn[0][0]']      \n",
      " n)                                                                                               \n",
      "                                                                                                  \n",
      " conv5_block1_0_conv (Conv2D)   (None, 7, 7, 2048)   2099200     ['conv4_block6_out[0][0]']       \n",
      "                                                                                                  \n",
      " conv5_block1_3_conv (Conv2D)   (None, 7, 7, 2048)   1050624     ['conv5_block1_2_relu[0][0]']    \n",
      "                                                                                                  \n",
      " conv5_block1_0_bn (BatchNormal  (None, 7, 7, 2048)  8192        ['conv5_block1_0_conv[0][0]']    \n",
      " ization)                                                                                         \n",
      "                                                                                                  \n",
      " conv5_block1_3_bn (BatchNormal  (None, 7, 7, 2048)  8192        ['conv5_block1_3_conv[0][0]']    \n",
      " ization)                                                                                         \n",
      "                                                                                                  \n",
      " conv5_block1_add (Add)         (None, 7, 7, 2048)   0           ['conv5_block1_0_bn[0][0]',      \n"
     ]
    },
    {
     "name": "stdout",
     "output_type": "stream",
     "text": [
      "                                                                  'conv5_block1_3_bn[0][0]']      \n",
      "                                                                                                  \n",
      " conv5_block1_out (Activation)  (None, 7, 7, 2048)   0           ['conv5_block1_add[0][0]']       \n",
      "                                                                                                  \n",
      " conv5_block2_1_conv (Conv2D)   (None, 7, 7, 512)    1049088     ['conv5_block1_out[0][0]']       \n",
      "                                                                                                  \n",
      " conv5_block2_1_bn (BatchNormal  (None, 7, 7, 512)   2048        ['conv5_block2_1_conv[0][0]']    \n",
      " ization)                                                                                         \n",
      "                                                                                                  \n",
      " conv5_block2_1_relu (Activatio  (None, 7, 7, 512)   0           ['conv5_block2_1_bn[0][0]']      \n",
      " n)                                                                                               \n",
      "                                                                                                  \n",
      " conv5_block2_2_conv (Conv2D)   (None, 7, 7, 512)    2359808     ['conv5_block2_1_relu[0][0]']    \n",
      "                                                                                                  \n",
      " conv5_block2_2_bn (BatchNormal  (None, 7, 7, 512)   2048        ['conv5_block2_2_conv[0][0]']    \n",
      " ization)                                                                                         \n",
      "                                                                                                  \n",
      " conv5_block2_2_relu (Activatio  (None, 7, 7, 512)   0           ['conv5_block2_2_bn[0][0]']      \n",
      " n)                                                                                               \n",
      "                                                                                                  \n",
      " conv5_block2_3_conv (Conv2D)   (None, 7, 7, 2048)   1050624     ['conv5_block2_2_relu[0][0]']    \n",
      "                                                                                                  \n",
      " conv5_block2_3_bn (BatchNormal  (None, 7, 7, 2048)  8192        ['conv5_block2_3_conv[0][0]']    \n",
      " ization)                                                                                         \n",
      "                                                                                                  \n",
      " conv5_block2_add (Add)         (None, 7, 7, 2048)   0           ['conv5_block1_out[0][0]',       \n",
      "                                                                  'conv5_block2_3_bn[0][0]']      \n",
      "                                                                                                  \n",
      " conv5_block2_out (Activation)  (None, 7, 7, 2048)   0           ['conv5_block2_add[0][0]']       \n",
      "                                                                                                  \n",
      " conv5_block3_1_conv (Conv2D)   (None, 7, 7, 512)    1049088     ['conv5_block2_out[0][0]']       \n",
      "                                                                                                  \n",
      " conv5_block3_1_bn (BatchNormal  (None, 7, 7, 512)   2048        ['conv5_block3_1_conv[0][0]']    \n",
      " ization)                                                                                         \n",
      "                                                                                                  \n",
      " conv5_block3_1_relu (Activatio  (None, 7, 7, 512)   0           ['conv5_block3_1_bn[0][0]']      \n",
      " n)                                                                                               \n",
      "                                                                                                  \n",
      " conv5_block3_2_conv (Conv2D)   (None, 7, 7, 512)    2359808     ['conv5_block3_1_relu[0][0]']    \n",
      "                                                                                                  \n",
      " conv5_block3_2_bn (BatchNormal  (None, 7, 7, 512)   2048        ['conv5_block3_2_conv[0][0]']    \n",
      " ization)                                                                                         \n",
      "                                                                                                  \n",
      " conv5_block3_2_relu (Activatio  (None, 7, 7, 512)   0           ['conv5_block3_2_bn[0][0]']      \n",
      " n)                                                                                               \n",
      "                                                                                                  \n",
      " conv5_block3_3_conv (Conv2D)   (None, 7, 7, 2048)   1050624     ['conv5_block3_2_relu[0][0]']    \n",
      "                                                                                                  \n",
      " conv5_block3_3_bn (BatchNormal  (None, 7, 7, 2048)  8192        ['conv5_block3_3_conv[0][0]']    \n",
      " ization)                                                                                         \n",
      "                                                                                                  \n",
      " conv5_block3_add (Add)         (None, 7, 7, 2048)   0           ['conv5_block2_out[0][0]',       \n",
      "                                                                  'conv5_block3_3_bn[0][0]']      \n",
      "                                                                                                  \n",
      " conv5_block3_out (Activation)  (None, 7, 7, 2048)   0           ['conv5_block3_add[0][0]']       \n",
      "                                                                                                  \n",
      "==================================================================================================\n",
      "Total params: 23,587,712\n",
      "Trainable params: 0\n",
      "Non-trainable params: 23,587,712\n",
      "__________________________________________________________________________________________________\n"
     ]
    }
   ],
   "source": [
    "for layer in cnn_resnet.layers:\n",
    "\tlayer.trainable = False    \n",
    "cnn_resnet.summary()"
   ]
  },
  {
   "cell_type": "code",
   "execution_count": 17,
   "id": "672da4ab",
   "metadata": {},
   "outputs": [
    {
     "name": "stdout",
     "output_type": "stream",
     "text": [
      "8/8 [==============================] - 9s 1s/step\n"
     ]
    }
   ],
   "source": [
    "feature_learning = cnn_resnet.predict(X_train)"
   ]
  },
  {
   "cell_type": "code",
   "execution_count": 18,
   "id": "055f68ce",
   "metadata": {},
   "outputs": [],
   "source": [
    "features = feature_learning.reshape(feature_learning.shape[0], -1)\n",
    "#print(features.shape)\n",
    "X_for_training = features"
   ]
  },
  {
   "cell_type": "code",
   "execution_count": 19,
   "id": "94a05fb9",
   "metadata": {},
   "outputs": [
    {
     "data": {
      "text/plain": [
       "XGBClassifier(base_score=0.5, booster='gbtree', callbacks=None,\n",
       "              colsample_bylevel=1, colsample_bynode=1, colsample_bytree=1,\n",
       "              early_stopping_rounds=None, enable_categorical=False,\n",
       "              eval_metric=None, feature_types=None, gamma=0, gpu_id=0,\n",
       "              grow_policy='depthwise', importance_type=None,\n",
       "              interaction_constraints='', learning_rate=0.300000012,\n",
       "              max_bin=256, max_cat_threshold=64, max_cat_to_onehot=4,\n",
       "              max_delta_step=0, max_depth=6, max_leaves=0, min_child_weight=1,\n",
       "              missing=nan, monotone_constraints='()', n_estimators=100,\n",
       "              n_jobs=0, num_parallel_tree=1, objective='multi:softprob',\n",
       "              predictor='auto', ...)"
      ]
     },
     "execution_count": 19,
     "metadata": {},
     "output_type": "execute_result"
    }
   ],
   "source": [
    "xgb_model = XGB.XGBClassifier(tree_method='gpu_hist', gpu_id=0)\n",
    "xgb_model.fit(X_for_training, y_train)"
   ]
  },
  {
   "cell_type": "code",
   "execution_count": 21,
   "id": "96f819e4",
   "metadata": {},
   "outputs": [
    {
     "name": "stdout",
     "output_type": "stream",
     "text": [
      "2/2 [==============================] - 2s 1s/step\n"
     ]
    }
   ],
   "source": [
    "#Send test data through same feature extractor process\n",
    "X_test_feature = cnn_resnet.predict(X_test)\n",
    "X_test_features = X_test_feature.reshape(X_test_feature.shape[0], -1)"
   ]
  },
  {
   "cell_type": "code",
   "execution_count": 22,
   "id": "4e9295cd",
   "metadata": {},
   "outputs": [
    {
     "data": {
      "text/plain": [
       "(63, 100352)"
      ]
     },
     "execution_count": 22,
     "metadata": {},
     "output_type": "execute_result"
    }
   ],
   "source": [
    "X_test_features.shape"
   ]
  },
  {
   "cell_type": "code",
   "execution_count": 23,
   "id": "662d7159",
   "metadata": {},
   "outputs": [],
   "source": [
    "\n",
    "predictions = xgb_model.predict(X_test_features)\n",
    "\n",
    "predictions = le.inverse_transform(predictions)"
   ]
  },
  {
   "cell_type": "code",
   "execution_count": 24,
   "id": "377cb497",
   "metadata": {},
   "outputs": [
    {
     "data": {
      "text/plain": [
       "array(['Monkeypox', 'Normal', 'Chickenpox', 'Chickenpox', 'Chickenpox',\n",
       "       'Chickenpox', 'Chickenpox', 'Chickenpox', 'Monkeypox',\n",
       "       'Chickenpox', 'Normal', 'Chickenpox', 'Monkeypox', 'Normal',\n",
       "       'Chickenpox', 'Monkeypox', 'Chickenpox', 'Normal', 'Chickenpox',\n",
       "       'Chickenpox', 'Monkeypox', 'Normal', 'Normal', 'Normal',\n",
       "       'Monkeypox', 'Chickenpox', 'Monkeypox', 'Monkeypox', 'Monkeypox',\n",
       "       'Normal', 'Monkeypox', 'Chickenpox', 'Normal', 'Monkeypox',\n",
       "       'Chickenpox', 'Monkeypox', 'Monkeypox', 'Chickenpox', 'Monkeypox',\n",
       "       'Monkeypox', 'Normal', 'Normal', 'Normal', 'Normal', 'Normal',\n",
       "       'Normal', 'Monkeypox', 'Normal', 'Normal', 'Normal', 'Normal',\n",
       "       'Monkeypox', 'Normal', 'Normal', 'Normal', 'Normal', 'Normal',\n",
       "       'Normal', 'Normal', 'Normal', 'Normal', 'Normal', 'Normal'],\n",
       "      dtype='<U10')"
      ]
     },
     "execution_count": 24,
     "metadata": {},
     "output_type": "execute_result"
    }
   ],
   "source": [
    "predictions"
   ]
  },
  {
   "cell_type": "code",
   "execution_count": 25,
   "id": "db37d869",
   "metadata": {},
   "outputs": [
    {
     "name": "stdout",
     "output_type": "stream",
     "text": [
      "Accuracy = 0.6507936507936508\n"
     ]
    }
   ],
   "source": [
    "print(\"Accuracy =\", accuracy_score(test_labels , predictions ))"
   ]
  },
  {
   "cell_type": "code",
   "execution_count": 27,
   "id": "99ec0f86",
   "metadata": {},
   "outputs": [],
   "source": [
    "conf_ma = confusion_matrix(test_labels ,predictions)"
   ]
  },
  {
   "cell_type": "code",
   "execution_count": 28,
   "id": "c96d6ca4",
   "metadata": {},
   "outputs": [
    {
     "data": {
      "text/plain": [
       "<AxesSubplot:>"
      ]
     },
     "execution_count": 28,
     "metadata": {},
     "output_type": "execute_result"
    },
    {
     "data": {
      "image/png": "[encoded data removed]",
      "text/plain": [
       "<Figure size 432x288 with 2 Axes>"
      ]
     },
     "metadata": {
      "needs_background": "light"
     },
     "output_type": "display_data"
    }
   ],
   "source": [
    "sns.heatmap(conf_ma , annot = True)"
   ]
  },
  {
   "cell_type": "code",
   "execution_count": 33,
   "id": "3073eb61",
   "metadata": {},
   "outputs": [
    {
     "name": "stdout",
     "output_type": "stream",
     "text": [
      "1/1 [==============================] - 0s 86ms/step\n",
      "The prediction for this image is:  ['Monkeypox']\n",
      "The actual label for this image is:  Monkeypox\n"
     ]
    },
    {
     "data": {
      "image/png": "[encoded data removed]",
      "text/plain": [
       "<Figure size 432x288 with 1 Axes>"
      ]
     },
     "metadata": {
      "needs_background": "light"
     },
     "output_type": "display_data"
    }
   ],
   "source": [
    "#Check results on a few select images\n",
    "n=np.random.randint(0, X_test.shape[0])\n",
    "img = X_test[n]\n",
    "plt.imshow(img)\n",
    "input_img = np.expand_dims(img, axis=0) #Expand dims so the input is (num images, x, y, c)\n",
    "input_img_feature=cnn_resnet.predict(input_img)\n",
    "input_img_features=input_img_feature.reshape(input_img_feature.shape[0], -1)\n",
    "prediction = xgb_model.predict(input_img_features)[0] \n",
    "prediction = le.inverse_transform([prediction])  #Reverse the label encoder to original name\n",
    "print(\"The prediction for this image is: \", prediction)\n",
    "print(\"The actual label for this image is: \", test_labels[n])\n",
    "\n"
   ]
  },
  {
   "cell_type": "code",
   "execution_count": 35,
   "id": "59318bf8",
   "metadata": {},
   "outputs": [
    {
     "name": "stdout",
     "output_type": "stream",
     "text": [
      "              precision    recall  f1-score   support\n",
      "\n",
      "  Chickenpox       0.75      0.57      0.65        21\n",
      "   Monkeypox       0.59      0.48      0.53        21\n",
      "      Normal       0.63      0.90      0.75        21\n",
      "\n",
      "    accuracy                           0.65        63\n",
      "   macro avg       0.66      0.65      0.64        63\n",
      "weighted avg       0.66      0.65      0.64        63\n",
      "\n"
     ]
    }
   ],
   "source": [
    "print(classification_report(test_labels , predictions))"
   ]
  },
  {
   "cell_type": "code",
   "execution_count": 123,
   "id": "608a19ba",
   "metadata": {},
   "outputs": [
    {
     "data": {
      "text/plain": [
       "(9483264,)"
      ]
     },
     "execution_count": 123,
     "metadata": {},
     "output_type": "execute_result"
    }
   ],
   "source": []
  },
  {
   "cell_type": "code",
   "execution_count": null,
   "id": "183bd4bc",
   "metadata": {},
   "outputs": [],
   "source": []
  },
  {
   "cell_type": "code",
   "execution_count": null,
   "id": "03a437ac",
   "metadata": {},
   "outputs": [],
   "source": []
  },
  {
   "cell_type": "code",
   "execution_count": null,
   "id": "59fadabf",
   "metadata": {},
   "outputs": [],
   "source": []
  },
  {
   "cell_type": "code",
   "execution_count": null,
   "id": "c2dde85d",
   "metadata": {},
   "outputs": [],
   "source": []
  },
  {
   "cell_type": "code",
   "execution_count": null,
   "id": "1e8deeca",
   "metadata": {},
   "outputs": [],
   "source": []
  },
  {
   "cell_type": "code",
   "execution_count": null,
   "id": "8edbf29a",
   "metadata": {},
   "outputs": [],
   "source": []
  }
 ],
 "metadata": {
  "kernelspec": {
   "display_name": "gpu2",
   "language": "python",
   "name": "gpu2"
  },
  "language_info": {
   "codemirror_mode": {
    "name": "ipython",
    "version": 3
   },
   "file_extension": ".py",
   "mimetype": "text/x-python",
   "name": "python",
   "nbconvert_exporter": "python",
   "pygments_lexer": "ipython3",
   "version": "3.9.7"
  }
 },
 "nbformat": 4,
 "nbformat_minor": 5
}
